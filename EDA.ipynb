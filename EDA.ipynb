{
 "cells": [
  {
   "cell_type": "markdown",
   "metadata": {
    "colab_type": "text",
    "execution": {},
    "id": "view-in-github"
   },
   "source": [
    "<a href=\"https://colab.research.google.com/github/zivdar001matin/nma-project/blob/main/EDA.ipynb\" target=\"_parent\"><img src=\"https://colab.research.google.com/assets/colab-badge.svg\" alt=\"Open In Colab\"/></a> &nbsp;"
   ]
  },
  {
   "cell_type": "code",
   "execution_count": null,
   "metadata": {},
   "outputs": [],
   "source": [
    "import numpy as np\n",
    "import pandas as pd\n",
    "from matplotlib import pyplot as plt\n",
    "from scipy import signal\n",
    "import scipy.io\n",
    "\n",
    "!pip install mne --quiet\n",
    "\n",
    "import mne\n",
    "from mne import create_info, EpochsArray\n",
    "from mne.io import RawArray\n",
    "from mne.baseline import rescale\n",
    "from mne.time_frequency import (tfr_multitaper, tfr_stockwell, tfr_morlet, tfr_array_morlet)\n",
    "from mne.viz import centers_to_edges\n",
    "\n",
    "from matplotlib import colors\n",
    "from matplotlib import rcParams\n",
    "from matplotlib import pyplot as plt"
   ]
  },
  {
   "attachments": {},
   "cell_type": "markdown",
   "metadata": {},
   "source": [
    "# Load Data"
   ]
  },
  {
   "cell_type": "code",
   "execution_count": null,
   "metadata": {},
   "outputs": [],
   "source": [
    "#@title Data retrieval\n",
    "import os, requests\n",
    "\n",
    "fname = 'joystick_track.npz'\n",
    "url = \"https://osf.io/6jncm/download\"\n",
    "\n",
    "if not os.path.isfile(fname):\n",
    "  try:\n",
    "    r = requests.get(url)\n",
    "  except requests.ConnectionError:\n",
    "    print(\"!!! Failed to download data !!!\")\n",
    "  else:\n",
    "    if r.status_code != requests.codes.ok:\n",
    "      print(\"!!! Failed to download data !!!\")\n",
    "    else:\n",
    "      with open(fname, \"wb\") as fid:\n",
    "        fid.write(r.content)"
   ]
  },
  {
   "cell_type": "code",
   "execution_count": null,
   "metadata": {},
   "outputs": [],
   "source": [
    "# @title Data loading\n",
    "import numpy as np\n",
    "\n",
    "alldat = np.load(fname, allow_pickle=True)['dat']"
   ]
  },
  {
   "attachments": {},
   "cell_type": "markdown",
   "metadata": {},
   "source": [
    "Select subject 0"
   ]
  },
  {
   "cell_type": "code",
   "execution_count": null,
   "metadata": {},
   "outputs": [],
   "source": [
    "# Select just one of the recordings here. This is subject 1, block 1.\n",
    "dat = alldat[0][0]\n",
    "\n",
    "print(dat.keys())\n",
    "\n",
    "targetX = dat['targetX']\n",
    "targetY = dat['targetY']\n",
    "cursorX = dat['cursorX']\n",
    "cursorY = dat['cursorY']"
   ]
  },
  {
   "attachments": {},
   "cell_type": "markdown",
   "metadata": {},
   "source": [
    "# Separate Blocks"
   ]
  },
  {
   "attachments": {},
   "cell_type": "markdown",
   "metadata": {},
   "source": [
    "Find each block idx"
   ]
  },
  {
   "cell_type": "code",
   "execution_count": null,
   "metadata": {},
   "outputs": [],
   "source": [
    "# sum = 0\n",
    "# idxs = []\n",
    "# for i in range(len(df_task.TargetPosX)):\n",
    "#     if df_task.TargetPosX[i] < 200:\n",
    "#         sum +=1\n",
    "#         if sum == 1:\n",
    "#             idxs.append(i)\n",
    "#     else:\n",
    "#         sum = 0\n",
    "\n",
    "# Figured out manually for the subject_0 using `plotly`\n",
    "idxs = np.array([\n",
    "    [2200, 62159],\n",
    "    [64320, 124279],\n",
    "    [126440, 186440],\n",
    "    [188560, 248560],\n",
    "    [250680, 310680],\n",
    "    [312800, 372759]\n",
    "])"
   ]
  },
  {
   "cell_type": "code",
   "execution_count": null,
   "metadata": {},
   "outputs": [],
   "source": [
    "np.diff(idxs)"
   ]
  },
  {
   "cell_type": "code",
   "execution_count": null,
   "metadata": {},
   "outputs": [],
   "source": [
    "plt.rcParams[\"figure.figsize\"] = (20,3)\n",
    "plt.plot(dat['targetX'])\n",
    "plt.vlines(idxs[:, 0], 0, 30000, color='red')\n",
    "plt.vlines(idxs[:, 1], 0, 30000, color='green')"
   ]
  },
  {
   "attachments": {},
   "cell_type": "markdown",
   "metadata": {},
   "source": [
    "Trajectory Shape"
   ]
  },
  {
   "cell_type": "code",
   "execution_count": null,
   "metadata": {},
   "outputs": [],
   "source": [
    "plt.rcParams[\"figure.figsize\"] = (5,5)\n",
    "plt.scatter(dat['targetX'][dat['targetX'] > 1000],dat['targetY'][dat['targetY'] > 1000])"
   ]
  },
  {
   "attachments": {},
   "cell_type": "markdown",
   "metadata": {},
   "source": [
    "# Loss"
   ]
  },
  {
   "cell_type": "code",
   "execution_count": null,
   "metadata": {},
   "outputs": [],
   "source": [
    "print(np.min(targetX[targetX > 1000]), np.min(targetY[targetY > 1000]))\n",
    "print(np.max(targetX[targetX > 1000]), np.max(targetY[targetY > 1000]))\n",
    "min = np.min(targetX[targetX > 1000])\n",
    "max = np.max(targetX[targetX > 1000])\n",
    "center = np.mean([min, max])\n",
    "radius = max - center\n",
    "\n",
    "print(center, radius)"
   ]
  },
  {
   "attachments": {},
   "cell_type": "markdown",
   "metadata": {},
   "source": [
    "Calculate the loss using distance to the circle\n",
    "\n",
    "\n",
    "![image.png](data:image/png;base64,iVBORw0KGgoAAAANSUhEUgAAASwAAAEsCAYAAAB5fY51AAAcd0lEQVR4nO3d4XWiWtcH8J133e/XpwJIBZypQFJBSAUhFUgqkKkgTAVhKhArCFYgVhCs4PGpwPfDni3oaATDAQ78f2u57iRxckkY/56z2Zxzt9/v9wSNuru7o/l8TmEYdn0oAIPyf10fwNDEcXz0XwBoDgKrYUmSEBHRdrulLMs6PhqAYUFgNWy5XB7+LOEFAM1AYDXodBqIaSFAsxBYDTodUWFaCNAsBFaDytNBgWkhQHMQWA25NP3DtBCgOQishlwaSWFaCNAcBFZDzk0HBaaFAM1AYDXg2rQP00KAZiCwGnBtBIVpIUAzEFgtsCyLJpNJ14cBYDwEVgOSJKH9fn94OI5Di8Xi8HGe52Tb9tHziYjyPKc0Tbs6bADjILBaFgQBPT09URzHlCQJPTw8dH1IAMZAYLUsiiIiIsqyjIIgoNls1vERAZgDgdWhJEnI87yuDwPAGAisDu12O3Jdt+vDADAGAqsjaZqS7/tdHwaAURBYHZFaFgBU90/XBzAWaZpSEATk+z69vb0NcyqYpkS73fHnJhOiIf6s0Ik7bELxfUmS0NPT08WvO45DcRxTHMeklDJvKiid/Hl+/CAi2myqfx/L4gAjOg4x1yXCxQeoAIGlgVKKwjA09wpglvFoKUmIVqu/v14OHqXO/1nsdvz9iK4HnWVxeMmj1GwLQIQpIYgk4UeaEm23xeenUx792DY/lGr2/yvhKP/9/ZsfRBxgShUjMATY6CGwxixJiKLoeBRlWUTPzxwQbYwQlToOwTw/DrDlkh+vr0SPj0RBgJrYiCGwxiiOOahkWiajKNdtfgRVl20Tndb44pgfEl6WxcGFUdfooK1hTKKIX+AvLxxWsxnR5yePZIKg+7C6xPf5GNdrPmYiHnHd33No4Qby0UBgjYEE1esrf/z2xkElnzeFUnzMeU70/s4jw+WS6OGBv4bgGjwE1lDlOY+aToOq/HmTnY66NhsOLs8rrkTC4CCwhigMebr06xd/XA6qoZFR1+cnF+WXS/7ZgwDBNUAIrCHJMn4B//zJ06XFYrhBdcq2+arnxweR43BYuy4X62EwEFhDEYZEP35wo+ZiwdMlUxtXv8N1ObgXC/745YWnjxhtDQICy3TlUdXz83iD6pTUsuZzbkR13eIWIzAWAstkp6OqODa/mN60MOTC/GRC9PQ0junxgCGwTOV5GFVVpRSPRGczrm3ZNlogDIXAMk2e8wtwueSrfxhVVRdFXJQn4hYIrElmHNyaY5I851rMdstTQIyq6nNd/j16XtGfhmmiMTDCMkWWFWH18YGw+q4k4b6t11eMtAyCwDJBmnJxnYjDCqsVNKMcWhhlGQGB1XdpyvUWy+I/I6yalSRFMR6j1t5DYPVZFB2HFYrrekQRX8BYLhFaPYfA6qsoKhatQ1jpFwQILQNgTfcGZFlGcemetSRJSClF9p+QsW2bgjo1EpkGPj6iO7tt8kYxn3PTKfQKRlh9k+fFNBBh1b4g4Gbcnz/RXNpDGGFpcPOuOeU+q89PTAO7ZNs4Dz2EEVafBEHRZ4UXSbdkdIWrsr2CwOqLMCxut8GLpHu2zW8c2+3fm2JAZxBYfZAkxY3MaGDsD9ctlqdBN3wvILC6lqa87InjYHXMPgrDohseRfjOIbC6lOc83cAVwX6LIj5HsvEFdAaB1SXf5xoJlojpN9vm0NpuMWXvGAKrK0nCW8TPZiiym8DzeNq+2aCe1SEEVhdkJxvZch3MIDXG11dsatERBFYXZHph2s7LY6cUj4iJcNtORxBYbctzXsrEcXCTrYlkZPz7NwrwHUBgtU3qH3iHNpNtF+cO0/nWIbDahNHVMPg+CvAdQWC1SYq2GF2ZT84lAqtVCKw2xTHXPzC6Mp8U4Ldb1LJahMBqCxoPh0duisYoqzUIrLbI7R0IrOFQimg65VU20JfVCgRWGzC6Gi4ZZeFe0FYgsNqA0dVwyc3rmBa2AlvVNyDPc8qy7PDxbrc7+tjbbnmtKxgm1+VG0izjaSJog8BqQJ7nFJZaFbbbLcVxTJPJhLzdjjwi3OA8ZL7PgZUkCCzNsAmFBkebULgur8qAX/OwyT2hKL5rhRqWbqsVX0mCYZPdjkqlAGgeAksn6YZGo+jw4WphKxBYOkkHNAJr+FyXrxZiXX6tEFg6ZRn/Ix7rmldBUIR2nvM9lErVnzalKYd++cKFrIffp5qRTAtBGwSWTpvNeK8OSkjLz2/bPF3a7epfSZtMuJt8Mjn+/hJifQkt+blQx9IGgaVb+UU2FmF4vrP/1gCXutDp3/U8/v32pSEXVwq1Q2BpMpF32TGOsH7+5L38ylPh8tbvsqZ91QK1/F2lOKSUKjrLPa8/9/IhsLRDYEGzpOh8WreTcJIR0a9f1W9nWa24Fui6/PfDsBhVyTSsD1fn5FgQWNogsHSRF9DYrhBeqt8kCYeOFNCJqo0+JQBdt6hZnfud9iUkLKs/xzJACCxN8t2u60Pojywrrp6VrxxWCSwJ/jTtz9TvK5NJ/4/RYAgsTf6z3fK632NzroVDAioI+OungZWmHEznXugyYpORVpb1OxBsm6+EghYILE0conH2X0kIlV+0MkoKgmK0VV6S5eGB6Onp7zpUmvJzHx+Lxszl8nhJYvn/9GXqbdvoxdIIqzVoYhONM7CU4oAph4rrFreuyFro5XaEtzd+/rmR02xWhFEYcuCVp5LSnNuXq7FyzrHUjBYILA1c6b0a6z/YKCK6v+cQct2/dwk6vToYBBxWp6Mk1z0OIgm9sjTt1+0w5daGsZ5/jTAl1GmMTaNE/KL9+OAgqVJviuO/w6kK3+cw7Mvoigi9WJphPSwNUqXI3WywBlae33YrTtff+7vu7ngqi2WTG4cpIeijs4bX5/ogerG0wZRQA5donC0NWcZ1qLu74jHGFy56sbRBYOmw242zfhVF3HZQ1pd2gzahF0sbBFYD0jQlpdThQdstxXl++Ng/d3VriM5t2b7ZtH8cXUMvljaoYTXAtu2jXXMoCMieTA6fm4xltIUXKcPoShtcJdRhrAu5yXZXJcG/7+Qlfq86D7Qb6/lvAaaEGqRE43yXjWOi+ZwvODgO7d7eKZn49PAwsiv8Y61htgAjLA3Qh3VM1th7fOzHslXaoQ9LG4ywNEjl3fVcEXqEkoRvF1wuuR496Cv+8sNhhKUFAkuDw2RwjNPCC4KA79bZbovbDAdJ6lZ97MAfAASWBqkE1WBflbdxXaLPT24EH2xdS849RlhaILCgVTIlfHwken0dYF/pmDcfaQECS5MlEUZYXxhVXQsag8DSCTWsLw2yrpWm47yPtCUILE3+dRx0flfw3bpWnhe7fmUZ/7lP6/lBsxBYuqDbubJzda2qU0T5u79+8TTz58+OA+vW3a2hEgSWLlh5srZyXct1q2d9eRa2XmOENWQILE0yuayNwKpF6lpERD9+XO+Mz3Oeee92fCujUh2u7ScHixGWNggsTWyMsG7musWo6enp7z0syspdBH1ehBSagcDSybJQw7qRbfOv7vmZ61KX6lp1NpHWTg5mcM1l/YHA0sm2iVarro/CaHH8dV3Ltvk+414EFt6ctENg6VTeih1u9lVdKwi4FaLz6WCe85vT42PHBzJsCCydZGqAy1bfVqeu1QlJUUwHtUJg6aQU17EwwmpE1bpWJySwxrJ+f0ewpnsD8jynrFS/2O12h4+VbZO9WvErDUuONCKO+Vf5+sq/1iTp+FeL6WBrEFgNyPP8aBOK7XZLcRzTZDIhdzKhiKgHr6phCQL+dfo+17UWiw5nY5gOtgZLJGuglKIwDMmTf8B3d0TTKaaGGuQ558Rmw8vJd1Lbcl0eYeGlpB1qWG14fOR/0Ljs3bjO61pZhulgixBYbZC3/d5d2hqOa/1a2uDctgqB1Qal+B14ucQoS6PTfi3t3SRZVmwHhPpkKxBYbcE7cSukX2s6JXp54RDTBue0dQistijFr6LlskfNQ8Nk2xxasxmvk+W6Gn7lec7ncjrF6KpFCKw2ydv9ILeL6Z8oInp/55q4jLwa/eZEmodwcAqB1SbP43tLfv3CKKslvl/UtR4eGqpryRKnjoPeq5YhsNom9Q6MslrTeF1Lzl0Yku+jhNUmBFbbyqMsaE2jda0/o6uEPPr9G4OsNiGwuiDv0LhRtnXfrmv9OWdZFFEQcHc9au7tQWB1wXX5X/rv39cXLYfG3VzXShI+Z/M5RbFLkwmmg21DYHUlDIvFnVCAb13tulae87lyHEpUSL9/Y4DcBQRWl3CXf6dq1bX+nKM8SSgIOOheX7E2Y9sQWF2ybV4XZbPB3KJDV+taYcjnaLGgMLRpMuHnrNc9WUt+RBBYXfO8YqkBLD/TmbN1rTTlP/z8SfT8fLgqKKOqTvdAHCkEVh/EMS+l7PuoZ3WoXNcKXnacXC8vfG7imCYTHol9dVUQ97brhcDqizjmLYxxq0enpK61o/8Un9xuiYgD7VqhPQw50PC+owcCqy9ct1jQCV3w3XOcwx+Df98rB5BsOdb4vYtARAisfgkCXlvp9RX9WV2KIi6yT6e0e3unX//z6f6+WgDZNp863+cZJd57GraHb1ssFnsiuvhwHKfeN3Sc/Z5ov//40HPAcNnHB//uHx8Pn/r83O8tiz/99lb9Wy0W/HeenzUc50ghsDRwHGe/WCxu/wblVwhCqz0SVpbF5+DE4+NfWXbVer3fz+cNHuPIYUrYR1L5xZXD9qQpz+Fk49sz/QpJUpQZbbvaaVEKLXZNQmD1lW0XVw5b3VVhhPL8algJWTd+u6XKdS1oDgKrz1z3eFcFvDqal+dFu/qVsBKuS/T5yfl2S2E9yzBwvhUCq+/k+vitrw64LE3597vd8htDjbZ1mRLKRd06t4MqxaGFgXN9CCwTSE1LXh1oLv2+OOY3ACIOqxtvCrylrkVUBNaPH+hgqQOBZQpp8JGlBbDCw+18n2+5mU6LUdY33FrXks1fn55QmK8KgWWaKDp+S8f6JtXlOf/O/izCV7VmVcVpXatqAEnYxfHfs325zUcpztgg4MeoS5ld91UM0bf7sKqQniGi/X46Pds3BCXSxdlCb9vzc9Gv9d3TIu147+/H7Xm6/3n1FUZYppIriJbFCznd32O0dY6Mov6sFkqfn9oXsZKp3nL5vcJ6nh/uuybX5R9DKgFjnUIisEwmS2TOZvzxy0txCWrs8ry4oW+75XpVlrW2gJVM9YhuL6zL1M9xisOWrN1svn+MJkJgDUEU8avDcfhf8o8f430LJuIhzv0916osixex6qDwIx0psnR/3VMih1y+vjL23i0E1lDI3GM+549//hzfwkx5zj/zywt/PJvxq77D3SJsm0+LLCrredVPiQRWeQYrg2fLavY4TYHAGpow5MXGZbR1f8+vkiFPE7OMf8b7e/6ZHYdHnLI4VQ/UrWtJ/cqyjgNLQmysO/YgsIZI6ljv71y7WS55mui6w+pSTJKi+3K55J/1/b3oyuyZOnUtCabycsxhyCHmOCOe8Xd9mXKIWmlrqGO9LtZGkeVT6izs1Ddvb8X1fekfWK+7PqrKPj+LJc8uLT0jX5fTNJuhg2W/3+/v9vv9vuvQHBqlFIVhSF7futHznKdJSVLMNzyPHz0ckRxJUz7u02MPgt5M++ryfb4u8PhYzF7znH/U0ynjZMLPlx/V8/jPo7u1tOvEHKLejbDOOR2lyNv3fN6P0cp6zcdYHhkOYXR44u2t+LHq9LN+fPDfGduICyMsDXo7wjonTYvHalV83rK4gOK6/Phqb6umxHFxLNIxScS1KTmOvo8EbyAXMrdbLsFVLahLq1me869ugL+avyCwNDAqsE7J1CtN/+5OtCyem0jbtW3X3000SYh2O57z5Dk/zv1/ZJpq4u/wBhI+qxV3Y9SZ6gUB3w9fJ+xMhcBqQJZlFJdui0mShJRSZP95Idu2TYGpS8JIeEnI7HbHo5/vkABUqgjCkW+nLOEznfKoqeqvIo6LAeqQ/dP1AUDPSVH+VHmkVIfrFuEEf4miovfVdatP9Xx/+KMrIoywtDB6Sgi9cGtda+jQOArQQ3If4nTKo61bKgpSjB8SBBZAT8nK2LLIrCzOUcfLy7CuWyCwAHouinhauFoVI68qbJuX/5JVdYZwHzwCC8AAvl/ch/jwUH2qJ0Gl1DD2UURgARjiO3Ut2d2nTtj1EQILwCCnda06S54FAa88ZHJHCQILwEBRRLRY8E0Cdepadfty5U6pvkBgARjK83jERPS9TcG/6v3t27ZiCCwAgyl1vCn4LQ2msv/h6dQySXgE16emVQQWgOFkU/D5nNfXqruUv6zFdTq1DEOi+WxHdpYUa5F1DIEFrckyfnHI1CVNb+vghvPC8La6lgSe7IomazxuNkR+sONv9PTElxc9j+jurvjmUaR3CJbnxz9Md0txDZcRC/h15P292Hx5OuWlf/d7XoSuD+sGDsF6XazNWHetQ9kg23qf7+dv/+VPylbWssIgEa/hvFjw/0g32fL683OPwNIAgfU1WdxUrNfH4QXf9/lZLNb6/Fzv77697ff033/3b/s/aWdZRTDJO87jI4eWLEr/+clfk5O4Xl9fvVZWlX1/L/7Hl57vOPv9bIat6qF9jnP8sVLtLGg6Jt+pa8Ux0SzcUUABz+O3W14SKEl43uk4PJffbIoTJ0WwX794mhiGvPyQODc/LX9PomIueu75f3Z8QmBBK/K8qNsqxffFyedAn7p1LaldHWqLcoKk2zSOi4UcT9k2h5kUKqOIQykIzhcrZcVaWRAyDLlGFsdcTDu13SKwoB1St5V/v0R8b9uIFxdtTZ1+rcmEb7Q+nBdJuCCotruS63IAyTeQkVcVux0H2BdFfKw4Cq04XRGzvGxkuXExzxFiOsiU0PO4X0uW7j8sf/1nFdi/smW14lHT6Uk5ncPLSEyeF8f8PU/XtpGD8P3jUVccX79kbFkYYUH3lCpmEAgrveQm6N0ypfzO5iHX0xP/tzxflD0sJaxO2+Fl+pem/NynJ/5vEPBa/S8v56eN4vQO7GsnPsuIPA8jrDZcqtNcWlgNz8fzdT4/CIiCNCJanmwmInuGEXGAXKo9CenBiqLjIXO5ui87I0noKfV3E+psdjxtTJIiDF23qJkFAfqwmrBYLPZEdOHxdrQP6Om+paek5QXPx/O1Pv/Sk+p6f6/XN/H5ye0OlnVoVbhqOj20O2ATCg3Km1DI9nvnyEWSMjwfz2/l+Xd3f309J4vs/Q3LksrIqQ6pnV1bv7k84iPsmqMFds2B3osirr6XKFrTzlKUpv2tJaKGBTBGQUCkFMU+F9r92KWIFD08cLvJx0c/F/pDYAGMletSNOFU8l0il3jTCtfli4Zvb/27OR1tDQBwIJtWyPpantev3XYQWAAjNpmc/7z0ay2XRWfBOeXlgtqAwAIYsSi6vItOEBRbi/34cb6/K0l4JNbWKAyBBTBi11bKkBumHYeb2WVhBSG3W7V1EzsCCwC+JE3qz89EP38e17UksNra6xCBBQCVxPH5utbzMy9J89XuO01BYAFAZefqWm2OshBYACNWZYmrU6d1rTTlBRraqGMhsABGLM+/XgXmktO61nbLD92jLHS6A0AlSVIsmVVeMVmp4rbEONa76xcCCwAqyTLeY4Ko+K+wLB5hrVb19kSsC4EFAJWEYdGHdbq5TZpy1/xmo/cYEFgAUJusnHS6gtLp7l5NQ2ABjNhk0mzAnHbCNw2BBTBibd643AQEFsCImbbjNpZIbkCaphSUVjrbbDZkWRZN/qzdoZSiuK2brQAGDIHVgDzPKSvdSBUEAfm+T+rP29dkMiG3j+vNAhgGgaUBNqEAk6VpsSWg6/L9g32pdeHWHIARO3cv4WTCHetRVDSLlvutuoSiO8CInVspVCkOrTznP8/nxUbQadrOMjKXYIQFABfJHqm23fy2X1mWke/7ZP/ZBNHzPLo7s8FrGQILAC7KsuubM99KKUVBENB2uyXf98n3fbpWUkdgAcBZu53+zVSVUmRZFu12u0oXqRBYAHBWFBVb1uc5P2QdrKZlFb8pAgtgxE73Jby7K1oZygMeKbonSTPd8UmSHNp/oig6TAujK/0TuEoIMGKn+bBYcIjpngratk2e51H4527p+XxORHR0x8g5aBzVAI2jAHpgSggAxkBgAYAxEFgAYAwEFsCI3bIvYZdwlRBgxM7dS9hntUZYuWk/HQAMytXAyvOcoigi13Xp/v7+sCjdV6o8p64oiq42ldWVpin5Ond9bJCuYzXlXBHpOVbf9ylteM0UXedKx7HqUuVc5XlOd3d35LouRVFUaUB0dkqY5zklSUJJktBqtTr62qbCxmNVnlOXjtHdbrerfEtA13QdqynnikjPsWZZRruG96XSda50HKsuVc6VrNKwWq1otVrR6+srTadT8jyPPM87fL3sEFhfhRQAQBuuhdc/URTVDqlEtn395nPqkHftJr+vvGM1faw63mF1HSuRGedKjPlc6Rm58dQtSZofEX735z8XXndEVPvWHMdxvvz6ZrO5+py6ZCg8Ob1b85vfc7vdNn6sp7vmNEHnsZpwroj0HKtp56r5Y+XvNZk0O9Wseq5qT/PX6/V+Pp/vLcvaE4fX1cc1VZ5T12w2289ms0a/52Kx2DuO0+j33O/3e8dx9ovFotHvqetYTTlX+72eYzXpXOk41q7PVZW8sSxrP5/P9+v1ev+PUupws26WZZQkCcVxTNvttl7yAQA0xLIs8n2fPM87uuJ4dJUQ4QUAbTm9mnwppMoudrqfC68kSc5eajy1WCxqHvp1unqQdPQL6aDrWE05V0R6jjWKokr/puvQda50HGuX58q2bXIc53AlsErvFtbD+oYsyw5NtWEYUpqmZNs21sMC0AQ3P98oyzL68eMHKaXIdV3abrcUx3HXhwUwaAisGwVBQJZlURAEh96Ypi/jA8AxBNaNVqvVYc4dx/EhvABAHywvcyNp4MuyjJbLJa3X664PCWDwMMK6kVwxTZKE1uu1lpUEAOAYRlg3krYPAGgPRlgAYAwEFgAYA4EFAMZAYAGAMRBYAGAMBBYAGAOBBQDGQGABgDEQWABgDKyH1YA0TY9ufD7dLEAphaVnABqAwGpAnudH2y8FQUC+7x9u3ZlMJuS6bleHBzAYCCwNsOIogB6oYQGAMRBYAGAMBBYAGAOBBQDGQGABgDEQWABgDAQWABgDgQUAxkBgAYAxEFgAYAwEFgAYA4EFAMZAYAGAMRBYAGAMBBYAGAOBBQDGQGABgDEQWABgDCyR3IAsy442mUiShJRSZNs2ERHZtn20SQUA3AYjLAAwBkZYGmATCgA9MMICAGMgsADAGAgsADAGAgsAjIHAAgBjILAAwBgILAAwBgILAIyBwAIAYyCwAMAYCCwAMAYCCwCMgcACAGMgsADAGAgsADAGAgsAjIHAAgBjILAAwBgILAAwBtZ0b0CSJPT09HTx647jUJZlLR4RwDAhsDTAJhQAemBKCADGQGABgDEQWABgDAQWABgDgQUAxkBgAYAxEFgAYAwEFgAYA4HVAN/36e7u7vDYbDb09PR09Dl0ugN8HwKrAUqpL79uWdbV5wDAdQisBly7Bcd13ZaOBGDYEFgNsG2bptPpxa/7vt/i0QAMFwKrIZdGWZZlYYQF0BAEVkMuBRbCCqA5CKyGXJoWYjoI0BwEVoNOR1mYDgI0C4HVoNPAQlgBNAuB1aDTaSGmgwDNQmA1TEZZmA4CNA+B1TAJLIQVQPP+H47IhQMQWrsCAAAAAElFTkSuQmCC)\n",
    "\n",
    "$|\\sqrt{(x - x_c)^2 + (y - y_c)^2} - r|$"
   ]
  },
  {
   "cell_type": "code",
   "execution_count": null,
   "metadata": {},
   "outputs": [],
   "source": [
    "def distance_to_circle(X, Y, x_c, y_c, r):\n",
    "    return np.abs(np.sqrt((X-x_c)**2 + (Y-y_c)**2) - r)"
   ]
  },
  {
   "cell_type": "code",
   "execution_count": null,
   "metadata": {},
   "outputs": [],
   "source": [
    "def normalize_error(error):\n",
    "    return (error - np.min(error))/(np.max(error) - np.min(error))"
   ]
  },
  {
   "cell_type": "code",
   "execution_count": null,
   "metadata": {},
   "outputs": [],
   "source": [
    "def plot_error(error, idxs=None, averaging=False):\n",
    "    plt.rcParams[\"figure.figsize\"] = (20,3)\n",
    "    # Normalize the error\n",
    "    error = normalize_error(error)\n",
    "    if averaging is False:\n",
    "        loop_error = error\n",
    "        if idxs is not None:\n",
    "            plt.vlines(idxs[:, 0], -0.1, 1.1, color='red')\n",
    "            plt.vlines(idxs[:, 1], -0.1, 1.1, color='green')\n",
    "    else:\n",
    "        loop_error = []\n",
    "        for i in range(len(error)//6200):\n",
    "            loop_error.append(np.mean(error[int(i*6200):int((i+1)*6200)]))\n",
    "        if idxs is not None:\n",
    "            plt.vlines(idxs[:, 0]/6200, 0, 1, color='red')\n",
    "            plt.vlines(idxs[:, 1]/6200, 0, 1, color='green')\n",
    "\n",
    "    plt.plot(loop_error)\n"
   ]
  },
  {
   "cell_type": "code",
   "execution_count": null,
   "metadata": {},
   "outputs": [],
   "source": [
    "error = distance_to_circle(cursorX, cursorY, center, center, radius)\n",
    "plot_error(error, idxs)"
   ]
  },
  {
   "attachments": {},
   "cell_type": "markdown",
   "metadata": {},
   "source": [
    "(using the notebook provided [here](https://colab.research.google.com/drive/1q3AloIhVCohWlb09919lpmiDFSDsb0Yi?usp=sharing))\n",
    "# ECoG time-frequency analysis\n",
    "\n",
    "Pipeline:\n",
    "\n",
    "(A) Filter data twice\n",
    "  - 3rd Order Butterworth High-Pass Filter (Cutoff at 1 Hz)\n",
    "  - 3rd Order Butterworth Low-Pass Filter (Cutoff at 200 Hz)\n",
    "\n",
    "(B) Set epoch window and categories\n",
    "  - Epoch window size: 2000 Samples\n",
    "  - Epochs & power for 4 categories:\n",
    "    1. Tongue Real\n",
    "    2. Hand Real\n",
    "    3. Tongue Imagined\n",
    "    4. Hand Imagined\n",
    "\n",
    "(C) Wavelet analysis\n",
    "  - Morlet wavelet analysis specifications:\n",
    "    1. Frequency Range: 5 - 80 Hz\n",
    "    2. Cycles: 2\n",
    "\n",
    "(D) Spectrograms\n",
    "  - Average power spectrum across all channels\n",
    "  - Average and combine frequencies within specific bands (Alpha, Beta, Gamma)\n",
    "\n",
    "  NOTE:\n",
    "  The Time-Freq Analysis used here is the Morlet Wavelet Transform. This type of analysis can identify different frequency bands in ECoG signals, track the temporal dynamics, and study the interactions between different frequency bands.  It yields both temporal and spectral characteristics of the signal."
   ]
  },
  {
   "cell_type": "code",
   "execution_count": null,
   "metadata": {},
   "outputs": [],
   "source": [
    "# @title  Select electrodes of interest (Pre- and Post-central Gyrus)\n",
    "\n",
    "# this is for all subjects\n",
    "\n",
    "electrode_roi = []\n",
    "\n",
    "# Iterate for Each Subject\n",
    "for subject_index, subject in enumerate(alldat[0]):\n",
    "\n",
    "  electrode_indexes_precentral = []\n",
    "  electrode_indexes_postcentral = []\n",
    "\n",
    "  for gyrus_index, gyrus in enumerate(subject['gyrus']):\n",
    "    if gyrus == 'Precentral Gyrus':\n",
    "      electrode_indexes_precentral.append(gyrus_index)\n",
    "    elif gyrus == 'Postcentral Gyrus':\n",
    "      electrode_indexes_postcentral.append(gyrus_index)\n",
    "\n",
    "  electrode_roi.append(electrode_indexes_precentral + electrode_indexes_postcentral)\n",
    "\n",
    "  print('\\033[1m' + 'Subject {}:'.format(subject_index) + '\\033[0m' + \"\"\"\\n  Precentral Gyrus: {}\\n  Postcentral Gyrus: {}\"\"\".format(electrode_indexes_precentral,electrode_indexes_postcentral))"
   ]
  },
  {
   "cell_type": "code",
   "execution_count": null,
   "metadata": {},
   "outputs": [],
   "source": [
    "# @title Time-Frequency Analysis of All Subjects\n",
    "\n",
    "# Number of Subjects\n",
    "subject_count = alldat.shape[1]\n",
    "\n",
    "# TODO increase window to fit each training block (if it's set to actuall value kernel will crash)\n",
    "# window = 59959\n",
    "window = 30000\n",
    "\n",
    "# Instantiate Empty Array for All Subjects' Tongue & Hand Epochs\n",
    "freqs = np.arange(3., 80., 2.)                # (lower bound of freq range, upper bound of freq range, bin size)\n",
    "power = np.ones((subject_count, len(freqs), window))    # 3D array that stores the power spectrum with ((subject number, freq bin, time bin))\n",
    "\n",
    "# Instantiate Empty Array for All Subjects' Tongue & Hand Band-Specific Power (Alpha Beta Gamma)\n",
    "power_theta = np.ones((subject_count, window))\n",
    "power_alpha = np.ones((subject_count, window))\n",
    "power_beta = np.ones((subject_count, window))\n",
    "power_gamma = np.ones((subject_count, window))\n",
    "\n",
    "# Iterate for Each Subject\n",
    "for isub in range(subject_count):                                         # for each subject and condition, extract voltage data, filter it, take epochs, then\n",
    "\n",
    "  # TODO for other subjects\n",
    "  if isub != 0:\n",
    "    continue\n",
    "\n",
    "  dat = alldat[0][isub]\n",
    "\n",
    "  # Extract Continuous Voltage Data & Assign Proper Type\n",
    "  volt_data = dat['V'].astype('float32')\n",
    "  chan_used = electrode_roi[isub]\n",
    "  volt_data = volt_data[:, chan_used]\n",
    "\n",
    "  # Multiply with Scale to Calculate uV Values\n",
    "  # volt_data = volt_data * block['scale_uv']\n",
    "\n",
    "  # 3rd Order Butterworth Filter (High-pass 1Hz)\n",
    "  b, a = signal.butter(3, [1], btype='high', fs=1000)\n",
    "  volt_data = signal.filtfilt(b, a, volt_data, 0)\n",
    "\n",
    "  # 3rd Order Butterworth Filter (Low-pass 200Hz)\n",
    "  b, a = signal.butter(3, [200], btype='low', fs=1000)\n",
    "  volt_data = signal.filtfilt(b, a, volt_data, 0)\n",
    "\n",
    "  # Extract {window} ms after Stimulus Onset for All Stimulus (~60 Total), Creating Epochs-Array\n",
    "  epoch_window = np.arange(0, window)\n",
    "  epoch_timepoints = idxs[:, 0][:, np.newaxis] + epoch_window          # an epoch is time-locked to the stimulus onset (tongue and hand stim)\n",
    "\n",
    "  # Transpose Data to Match MNE Epochs Object Input Dimension (Credits to Xianhui)\n",
    "  V_epochs_combined = volt_data[epoch_timepoints, :].transpose((0,2,1)) # epoch * chan * time\n",
    "                                                      # Note: MNE Epochs object is a class in the MNE library used to store and manipulate epochs of data\n",
    "                                                      # after transpose, axis0 = epoch index; axis1 = chan index; axis2 = time index\n",
    "\n",
    "  # Separate Epochs Between Tongue & Hand\n",
    "  # V_epochs_tongue = (V_epochs_combined[dat['stim_id'] == 11, :, :])\n",
    "  # V_epochs_hand = (V_epochs_combined[dat['stim_id'] == 12, :, :])\n",
    "  V_epochs = V_epochs_combined\n",
    "\n",
    "  # obtain each channel's power\n",
    "  # (n_epochs, n_chans, n_freqs, n_times)\n",
    "  _power = tfr_array_morlet(V_epochs, 1000, freqs, n_cycles=2, output='power', verbose='WARNING')\n",
    "\n",
    "  # Normalize power\n",
    "  # calculate the mean power of each frequency and each channel [n_chan, n_fre]\n",
    "  mean_power = np.mean(np.mean(_power, 3), 0)\n",
    "\n",
    "  mean_matrix = np.ones((6, len(chan_used), len(freqs), window))\n",
    "\n",
    "  # construct mean power matrix                           # mean power matrix is a matrix that contains the mean power for each channel and frequency band\n",
    "  for iitrial in range(6):\n",
    "    for iitime in range(window):\n",
    "      mean_matrix[iitrial, :, :, iitime] = mean_power\n",
    "\n",
    "  _power = _power / mean_matrix        # divide the power spectra by the mean power matrix for each condition\n",
    "\n",
    "  a = np.mean(_power, 0)                            # calculate the mean power (averaged power across all channels and time points) per condition\n",
    "\n",
    "  # (n_subs, n_freqs, n_times)                            # calculate the mean power for tongue and hand epochs accdg to alpha, beta, & gamma bands\n",
    "  power[isub, :, :] = np.mean(np.mean(_power, 0), 0)\n",
    "\n",
    "  # Split into Bands\n",
    "  power_theta[isub, :] = np.mean(power[isub,:3,:],0)\n",
    "  power_alpha[isub, :] = np.mean(power[isub,3:5,:],0)\n",
    "  power_beta[isub, :] = np.mean(power[isub,5:14,:],0)\n",
    "  power_gamma[isub, :] = np.mean(power[isub,14:39,:],0)"
   ]
  },
  {
   "attachments": {},
   "cell_type": "markdown",
   "metadata": {},
   "source": [
    "## Time-Frequency Analysis Averaged and Plotted\n",
    "\n",
    "\n",
    "1. Spectogram\n",
    "2. Band-Specific Activities\n",
    "3. Spectogram Difference"
   ]
  },
  {
   "cell_type": "code",
   "execution_count": null,
   "metadata": {},
   "outputs": [],
   "source": [
    "# @title Average Across 7 Subjects\n",
    "\n",
    "# Calculate Grand Average of Power Across Subjects\n",
    "power_all = np.mean(power, 0)\n",
    "\n",
    "# Convert Power GA to Log Power\n",
    "power_all = 10 * np.log10(power_all)\n",
    "\n",
    "# Calculate Grand Average of Band Power Across Subjects\n",
    "power_theta_all = np.mean(power_theta, 0)\n",
    "\n",
    "power_alpha_all = np.mean(power_alpha, 0)\n",
    "\n",
    "power_beta_all = np.mean(power_beta, 0)\n",
    "\n",
    "power_gamma_all = np.mean(power_gamma, 0)"
   ]
  },
  {
   "cell_type": "code",
   "execution_count": null,
   "metadata": {},
   "outputs": [],
   "source": [
    "# @title Spectogram of All 4 Categories\n",
    "\n",
    "\n",
    "# Plot All 4 Power Data\n",
    "f, ax = plt.subplots(figsize=(9,6))\n",
    "time_range=range(window)\n",
    "\n",
    "c1 = ax.pcolor(time_range, freqs, power_all, cmap='viridis')      # also try cmap='RdBu_r'\n",
    "ax.set_title(\"\")\n",
    "ax.set_xlabel('time (ms)')\n",
    "ax.set_ylabel('frequency (Hz)')\n",
    "f.colorbar(c1, ax=ax)\n",
    "\n",
    "plt.tight_layout()\n",
    "title = \"Time-Frequency Analysis\"\n",
    "plt.suptitle(title, x=0.5, y=1.1)\n",
    "plt.show()"
   ]
  },
  {
   "cell_type": "code",
   "execution_count": null,
   "metadata": {},
   "outputs": [],
   "source": [
    "e_window = np.arange(0, window)\n",
    "e_timepoints = idxs[:, 0][:, np.newaxis] + epoch_window          # an epoch is time-locked to the stimulus onset (tongue and hand stim)\n",
    "e_epoch_combined = error[epoch_timepoints, :].transpose((0,2,1))"
   ]
  },
  {
   "cell_type": "code",
   "execution_count": null,
   "metadata": {},
   "outputs": [],
   "source": [
    "# @title Band Power Spectra (Alpha, Beta, Gamma)\n",
    "\n",
    "f, axes = plt.subplots(5, 1, figsize=(24, 24))\n",
    "time_range=range(window)\n",
    "\n",
    "# Plot Band Activities\n",
    "\n",
    "ax1 = axes[0]\n",
    "ax1.plot(time_range,power_theta_all, label='')\n",
    "ax1.set_title(\"Theta Band (4-8 Hz)\")\n",
    "ax1.set_xlabel('time (ms)')\n",
    "ax1.set_ylabel('Power')\n",
    "# ax1.legend()\n",
    "\n",
    "ax2 = axes[1]\n",
    "ax2.plot(time_range,power_alpha_all, label='')\n",
    "ax2.set_title(\"Alpha Band (8-12 Hz)\")\n",
    "ax2.set_xlabel('time (ms)')\n",
    "ax2.set_ylabel('Power')\n",
    "# ax2.legend()\n",
    "\n",
    "ax3 = axes[2]\n",
    "ax3.plot(time_range,power_beta_all, label='')\n",
    "ax3.set_title(\"Beta Band (12-30 Hz)\")\n",
    "ax3.set_xlabel('time (ms)')\n",
    "ax3.set_ylabel('Power')\n",
    "# ax3.legend()\n",
    "\n",
    "ax4 = axes[3]\n",
    "ax4.plot(time_range,power_gamma_all, label='')\n",
    "ax4.set_title(\"Gamma Band (30-100 Hz)\")\n",
    "ax4.set_xlabel('time (ms)')\n",
    "ax4.set_ylabel('Power')\n",
    "# ax4.legend()\n",
    "\n",
    "ax5 = axes[4]\n",
    "ax5.plot(time_range,normalize_error(np.mean(e_epoch_combined, 0)[0]), label='')\n",
    "ax5.set_title(\"Circullar Loss\")\n",
    "ax5.set_xlabel('time (ms)')\n",
    "ax5.set_ylabel('Normalized loss')\n",
    "# ax5.legend()\n"
   ]
  }
 ],
 "metadata": {
  "kernelspec": {
   "display_name": "nma",
   "language": "python",
   "name": "python3"
  },
  "language_info": {
   "codemirror_mode": {
    "name": "ipython",
    "version": 3
   },
   "file_extension": ".py",
   "mimetype": "text/x-python",
   "name": "python",
   "nbconvert_exporter": "python",
   "pygments_lexer": "ipython3",
   "version": "3.11.4"
  },
  "orig_nbformat": 4
 },
 "nbformat": 4,
 "nbformat_minor": 2
}
